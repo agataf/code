{
 "cells": [
  {
   "cell_type": "markdown",
   "metadata": {},
   "source": [
    "## Example code for a convolutional layer (without biases), and its backward pass"
   ]
  },
  {
   "cell_type": "code",
   "execution_count": 1,
   "metadata": {
    "collapsed": true
   },
   "outputs": [],
   "source": [
    "# extend conv2 to accept \"full\" or \"valid\" as an third argument\n",
    "function Base.conv2(A, B, shape::String)   \n",
    "    if shape == \"full\"\n",
    "        return Base.conv2(A,B)\n",
    "    elseif shape == \"valid\"\n",
    "        ranges = [ min(a,b):max(a,b) for (a,b) in zip(size(A),size(B)) ]\n",
    "        return Base.conv2(A,B)[ranges...]\n",
    "    else\n",
    "        error(\"shape must be full or valid\")\n",
    "    end\n",
    "end"
   ]
  },
  {
   "cell_type": "code",
   "execution_count": 2,
   "metadata": {
    "collapsed": false
   },
   "outputs": [
    {
     "data": {
      "text/plain": [
       "df (generic function with 1 method)"
      ]
     },
     "execution_count": 2,
     "metadata": {},
     "output_type": "execute_result"
    }
   ],
   "source": [
    "f(x) = tanh(x)        # substitute your favorite activation function here\n",
    "df(y) = 1 - y.*y"
   ]
  },
  {
   "cell_type": "code",
   "execution_count": 3,
   "metadata": {
    "collapsed": false
   },
   "outputs": [],
   "source": [
    "# forward pass\n",
    "nin = 3     # number of input images/feature maps\n",
    "nout = 4    # number of output images/feature maps\n",
    "in = rand(16,16,nin)\n",
    "w = rand(3,3,nout,nin)\n",
    "outsize = (size(in,1)-size(w,1)+1, size(in,2)-size(w,2)+1, size(w,3))\n",
    "\n",
    "out = zeros(outsize)       # will accumulate to this array\n",
    "for i = 1:nout\n",
    "    for j = 1:nin\n",
    "        out[:,:,i] += conv2(w[:,:,i,j], in[:,:,j],\"valid\")\n",
    "    end\n",
    "end\n",
    "out = f(out);"
   ]
  },
  {
   "cell_type": "code",
   "execution_count": 4,
   "metadata": {
    "collapsed": false
   },
   "outputs": [],
   "source": [
    "# backward pass\n",
    "deltaout = rand(size(out))   # input to the backward pass, so name could be confusing\n",
    "\n",
    "deltain = zeros(size(in))     # will accumulate to this array\n",
    "for j = 1:nin\n",
    "    for i = 1:nout\n",
    "        deltain[:,:,j] += conv2(deltaout[:,:,i], w[end:-1:1,end:-1:1,i,j],\"full\")\n",
    "    end\n",
    "end\n",
    "deltain .*= df(in);"
   ]
  },
  {
   "cell_type": "code",
   "execution_count": 5,
   "metadata": {
    "collapsed": true
   },
   "outputs": [],
   "source": [
    "# kernel update\n",
    "for i = 1:nout\n",
    "    for j = 1:nin\n",
    "        w[:,:,i,j] += conv2(deltaout[:,:,i], in[end:-1:1,end:-1:1,j],\"valid\")\n",
    "    end\n",
    "end"
   ]
  },
  {
   "cell_type": "markdown",
   "metadata": {
    "collapsed": true
   },
   "source": [
    "### For Whoever Shares, to Him More Gradient Will Be Given.  (corruption of Mark 4:25)"
   ]
  }
 ],
 "metadata": {
  "kernelspec": {
   "display_name": "Julia 0.5.0",
   "language": "julia",
   "name": "julia-0.5"
  },
  "language_info": {
   "file_extension": ".jl",
   "mimetype": "application/julia",
   "name": "julia",
   "version": "0.5.0"
  }
 },
 "nbformat": 4,
 "nbformat_minor": 2
}
