{
 "cells": [
  {
   "cell_type": "markdown",
   "metadata": {
    "collapsed": true
   },
   "source": [
    "## example code for max pooling, and its backward pass"
   ]
  },
  {
   "cell_type": "code",
   "execution_count": null,
   "metadata": {
    "collapsed": false
   },
   "outputs": [],
   "source": [
    "doc\"\"\"\n",
    "`MAXPOOL` - 2x2 max pooling\n",
    "\n",
    "     OUT, WINNERIDS = MAXPOOL(IN)\n",
    "\n",
    "* `IN`: input image\n",
    "* `OUT`: 2x smaller output image containing max of each 2x2 block in input image\n",
    "* `WINNERIDS`: identities of winners in each 2x2 block\n",
    "\"\"\"\n",
    "function maxpool(in)\n",
    "    m, n = size(in)  # m x n input image\n",
    "    # reshape to 2 x m/2 x 2 x n/2\n",
    "    out, winnerids = findmax(reshape(in, 2, div(m,2), 2, div(n,2)), (1,3))\n",
    "    return squeeze(out,(1,3)), squeeze(winnerids,(1,3))\n",
    "end\n",
    "\n",
    "doc\"\"\"\n",
    "`MAXPOOLBACK` - backprop through 2x2 max pooling\n",
    "\n",
    "     DELTA_IN = MAXPOOLBACK(DELTA_OUT, WINNERIDS)\n",
    "\n",
    "* `DELTA_OUT`: delta corresponding to output image \n",
    "* `WINNERIDS`: identities of winners in each 2x2 block\n",
    "* `DELTA_IN`: 2x larger delta corresponding to input image\n",
    "\"\"\"\n",
    "function maxpoolback(delta_out, winnerids)\n",
    "    m, n = size(delta_out);  \n",
    "    delta_in = zeros(2*m,2*n)\n",
    "\n",
    "    delta_in[winnerids] = delta_out\n",
    "    return delta_in\n",
    "end"
   ]
  },
  {
   "cell_type": "code",
   "execution_count": null,
   "metadata": {
    "collapsed": false,
    "scrolled": true
   },
   "outputs": [],
   "source": [
    "img = reshape(randperm(16),4,4)"
   ]
  },
  {
   "cell_type": "code",
   "execution_count": null,
   "metadata": {
    "collapsed": false
   },
   "outputs": [],
   "source": [
    "maxima, winnerids = maxpool(img)\n",
    "maxima"
   ]
  },
  {
   "cell_type": "code",
   "execution_count": null,
   "metadata": {
    "collapsed": false
   },
   "outputs": [],
   "source": [
    "winnerids"
   ]
  },
  {
   "cell_type": "code",
   "execution_count": null,
   "metadata": {
    "collapsed": false
   },
   "outputs": [],
   "source": [
    "maxpoolback(maxpool(img)...)"
   ]
  }
 ],
 "metadata": {
  "kernelspec": {
   "display_name": "Julia 0.5.0",
   "language": "julia",
   "name": "julia-0.5"
  },
  "language_info": {
   "file_extension": ".jl",
   "mimetype": "application/julia",
   "name": "julia",
   "version": "0.5.0"
  }
 },
 "nbformat": 4,
 "nbformat_minor": 2
}
