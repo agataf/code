{
 "cells": [
  {
   "cell_type": "markdown",
   "metadata": {},
   "source": [
    "To run the code in a cell, position your cursor in the cell and Shift-Enter"
   ]
  },
  {
   "cell_type": "code",
   "execution_count": null,
   "metadata": {
    "collapsed": false
   },
   "outputs": [],
   "source": [
    "using MNIST, Plots\n",
    "gr(                        # GR backend for Plots\n",
    "    yflip = true,          # matrix convention that rows are numbered from the top\n",
    "    color = :grays        # grayscale color map\n",
    "    )                  "
   ]
  },
  {
   "cell_type": "code",
   "execution_count": null,
   "metadata": {
    "collapsed": false
   },
   "outputs": [],
   "source": [
    "n = 784   # number of image pixels\n",
    "m = 60000   # number of images in training set\n",
    "eta = 0.1  # learning rate parameter\n",
    "epsinit = 0.01  # initial size of synaptic weights\n",
    "w = epsinit*randn(n)   # random initialization of weight vector\n",
    "b = epsinit*randn()    # random initialization of bias \n",
    "\n",
    "tmax = 60000           # number of learning updates\n",
    "errcl = zeros(tmax)    # classification error vs. time"
   ]
  },
  {
   "cell_type": "code",
   "execution_count": null,
   "metadata": {
    "collapsed": false
   },
   "outputs": [],
   "source": [
    "for t = 1:tmax\n",
    "    i = ceil(Int, m*rand())    # choose a random example\n",
    "    x = trainfeatures(i)/255   # normalize max value to one\n",
    "    desired = Float64(trainlabel(i) == 2)\n",
    "    actual = Float64(dot(w,x) + b > 0)\n",
    "    delta = desired - actual\n",
    "    errcl[t] = abs(desired-actual)\n",
    "    w += eta*delta*x\n",
    "    b += eta*delta\n",
    "    if rem(t,1000) == 0    # display every 1000 time steps\n",
    "        errorrate = cumsum(errcl[1:t])./(1:t)\n",
    "        IJulia.clear_output(true)\n",
    "        plt = plot(\n",
    "            heatmap(\n",
    "                reshape(w,28,28), \n",
    "                axis = nothing,\n",
    "                title = @sprintf(\"weight vector at t=%d\",t)\n",
    "            ),\n",
    "            heatmap(\n",
    "                reshape(x,28,28),\n",
    "                axis = nothing,\n",
    "                title = \"input vector\"\n",
    "            ),\n",
    "            plot(\n",
    "                errorrate,\n",
    "                ylims = (0,1), yflip = false, \n",
    "                legend = :none, color = :auto,\n",
    "                title = @sprintf(\"average class error=%f\", errorrate[t])\n",
    "            )\n",
    "        ) |> display\n",
    "        sleep(0.01)\n",
    "    end\n",
    "end         "
   ]
  },
  {
   "cell_type": "code",
   "execution_count": null,
   "metadata": {
    "collapsed": true
   },
   "outputs": [],
   "source": []
  }
 ],
 "metadata": {
  "kernelspec": {
   "display_name": "Julia 0.5.0",
   "language": "julia",
   "name": "julia-0.5"
  },
  "language_info": {
   "file_extension": ".jl",
   "mimetype": "application/julia",
   "name": "julia",
   "version": "0.5.0"
  }
 },
 "nbformat": 4,
 "nbformat_minor": 2
}
