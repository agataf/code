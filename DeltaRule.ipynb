{
 "cells": [
  {
   "cell_type": "markdown",
   "metadata": {},
   "source": [
    "To run the code in a cell, position your cursor in the cell and Shift-Enter"
   ]
  },
  {
   "cell_type": "code",
   "execution_count": 20,
   "metadata": {
    "collapsed": false
   },
   "outputs": [
    {
     "data": {
      "text/plain": [
       "Plots.GRBackend()"
      ]
     },
     "execution_count": 20,
     "metadata": {},
     "output_type": "execute_result"
    }
   ],
   "source": [
    "using MNIST, Plots\n",
    "gr(                        # GR backend for Plots\n",
    "    yflip = true,          # matrix convention that rows are numbered from the top\n",
    "    color = :grays        # grayscale color map\n",
    "    )                  "
   ]
  },
  {
   "cell_type": "code",
   "execution_count": 23,
   "metadata": {
    "collapsed": false
   },
   "outputs": [
    {
     "data": {
      "text/plain": [
       "60000-element Array{Float64,1}:\n",
       " 0.0\n",
       " 0.0\n",
       " 0.0\n",
       " 0.0\n",
       " 0.0\n",
       " 0.0\n",
       " 0.0\n",
       " 0.0\n",
       " 0.0\n",
       " 0.0\n",
       " 0.0\n",
       " 0.0\n",
       " 0.0\n",
       " ⋮  \n",
       " 0.0\n",
       " 0.0\n",
       " 0.0\n",
       " 0.0\n",
       " 0.0\n",
       " 0.0\n",
       " 0.0\n",
       " 0.0\n",
       " 0.0\n",
       " 0.0\n",
       " 0.0\n",
       " 0.0"
      ]
     },
     "execution_count": 23,
     "metadata": {},
     "output_type": "execute_result"
    }
   ],
   "source": [
    "n = 784   # number of image pixels\n",
    "m = 60000   # number of images in training set\n",
    "eta = 0.1  # learning rate parameter\n",
    "epsinit = 0.01  # initial size of synaptic weights\n",
    "w = epsinit*randn(n)   # random initialization of weight vector\n",
    "b = epsinit*randn()    # random initialization of bias \n",
    "\n",
    "tmax = 60000           # number of learning updates\n",
    "errcl = zeros(tmax)    # classification error vs. time"
   ]
  },
  {
   "cell_type": "code",
   "execution_count": 40,
   "metadata": {
    "collapsed": false
   },
   "outputs": [],
   "source": [
    "for t = 1:tmax\n",
    "    i = ceil(Int, m*rand())    # choose a random example\n",
    "    x = trainfeatures(i)/255   # normalize max value to one\n",
    "    desired = Float64(trainlabel(i) == 2)\n",
    "    actual = Float64(dot(w,x) + b > 0)\n",
    "    delta = desired - actual\n",
    "    errcl[t] = abs(desired-actual)\n",
    "    w += eta*delta*x\n",
    "    b += eta*delta\n",
    "    if rem(t,1000) == 0    # display every 1000 time steps\n",
    "        errorrate = cumsum(errcl[1:t])./(1:t)\n",
    "        plt = plot(\n",
    "            heatmap(\n",
    "                reshape(w,28,28),\n",
    "                color = :grays, \n",
    "                yflip = true, \n",
    "                axis = nothing,\n",
    "                title = @sprintf(\"weight vector at t=%d\",t)\n",
    "            ),\n",
    "            heatmap(\n",
    "                reshape(x,28,28),\n",
    "                c=:grays,\n",
    "                yflip = true,\n",
    "                axis = nothing,\n",
    "                title = \"input vector\"\n",
    "            ),\n",
    "            plot(\n",
    "                errorrate,\n",
    "                ylims = (0,1), \n",
    "                legend = :none,\n",
    "                title = @sprintf(\"average class error=%f\", errorrate[t])\n",
    "            )\n",
    "        )\n",
    "        gui()\n",
    "    end\n",
    "end         "
   ]
  },
  {
   "cell_type": "code",
   "execution_count": null,
   "metadata": {
    "collapsed": true
   },
   "outputs": [],
   "source": []
  }
 ],
 "metadata": {
  "kernelspec": {
   "display_name": "Julia 0.5.0",
   "language": "julia",
   "name": "julia-0.5"
  },
  "language_info": {
   "file_extension": ".jl",
   "mimetype": "application/julia",
   "name": "julia",
   "version": "0.5.0"
  }
 },
 "nbformat": 4,
 "nbformat_minor": 2
}
