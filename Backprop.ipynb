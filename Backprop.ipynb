{
 "cells": [
  {
   "cell_type": "markdown",
   "metadata": {},
   "source": [
    "# Backpropagation learning for multilayer perceptron"
   ]
  },
  {
   "cell_type": "code",
   "execution_count": null,
   "metadata": {
    "collapsed": false
   },
   "outputs": [],
   "source": [
    "using MNIST, Plots               "
   ]
  },
  {
   "cell_type": "code",
   "execution_count": null,
   "metadata": {
    "collapsed": false
   },
   "outputs": [],
   "source": [
    "f(x) = 1./(1+exp(-x))     # logistic function activation (replace to define your own activation function)\n",
    "df(y) = y.*(1-y)          # derivative of f composed with inverse of f\n",
    "\n",
    "m = 60000  # number of examples in training set\n",
    "\n",
    "n0 = 784       # widths of layers\n",
    "n1 = 25\n",
    "n2 = 10  \n",
    "\n",
    "eta = 0.1       # learning rate parameter\n",
    "epsinit = 0.01  # magnitude of initial conditions for synaptic weights\n",
    "\n",
    "# two fully connected synaptic layers\n",
    "W1 = epsinit*randn(n1,n0)\n",
    "W2 = epsinit*randn(n2,n1)\n",
    "\n",
    "# biases\n",
    "b1 = epsinit*randn(n1,1)\n",
    "b2 = epsinit*randn(n2,1)\n",
    "\n",
    "tmax = 600000       # maximum number of learning updates\n",
    "tshow = 1000         # how often to pause for visualization\n",
    "errsq = zeros(tmax)\n",
    "errcl = zeros(tmax);"
   ]
  },
  {
   "cell_type": "code",
   "execution_count": null,
   "metadata": {
    "collapsed": false
   },
   "outputs": [],
   "source": [
    "gr(                        # GR backend for Plots\n",
    "    size = (600,600),    # you may need to change the numbers to fit your screen\n",
    "    legend = :none\n",
    ")\n",
    "for t = 1:tmax\n",
    "    i = ceil(Int, m*rand())     # choose randomly from the training set\n",
    "    x0 = trainfeatures(i)/255\n",
    "    y = zeros(n2,1)\n",
    "    if trainlabel(i) == 0       # use label to create desired output in one-hot representation\n",
    "        y[10] = 1\n",
    "    else\n",
    "        y[convert(Int,trainlabel(i))] = 1\n",
    "    end\n",
    "    # forward pass   \n",
    "    x1 = f(W1*x0+b1)\n",
    "    x2 = f(W2*x1+b2)\n",
    "    # error computation\n",
    "    errsq[t] = sum((y-x2).^2)\n",
    "    delta2 = (y-x2).*df(x2)\n",
    "    errcl[t] = Float64(rem(indmax(x2),10) != trainlabel(i))\n",
    "    # backward pass\n",
    "    delta1 = (W2'*delta2).*df(x1)\n",
    "    # learning updates\n",
    "    W2 += eta*delta2*x1'\n",
    "    W1 += eta*delta1*x0'\n",
    "    b2 += eta*delta2\n",
    "    b1 += eta*delta1\n",
    "    if rem(t,tshow) == 0    # visualization every tshow steps\n",
    "        avgerrsq = cumsum(errsq[1:t])./(1:t)\n",
    "        avgerrcl = cumsum(errcl[1:t])./(1:t)\n",
    "        IJulia.clear_output(true)\n",
    "        plot(\n",
    "            heatmap(\n",
    "                reshape(x0,28,28),\n",
    "                axis = nothing,\n",
    "                yflip = true, color = :grays,\n",
    "                title = @sprintf(\"x0 at t=%d\", t)\n",
    "            ),\n",
    "            bar(x1, ylabel = \"x1\"),\n",
    "            bar(x2, ylabel = \"x2\"),\n",
    "            plot(\n",
    "                [avgerrsq avgerrcl], \n",
    "                ylabel = \"error\", \n",
    "                label = [\"squared\",\"class\"],\n",
    "                legend = :topright, ylim = (0,1)\n",
    "                ), \n",
    "            plot(\n",
    "                [heatmap(reshape(W1',28,28,n1)[:,:,i],\n",
    "                axis = nothing, \n",
    "                color = :grays, \n",
    "                yflip = true\n",
    "                ) for i = 1:n1]...),   # first layer weight vectors\n",
    "            layout = @layout [a b c d; e{0.75h}]\n",
    "            ) |> display\n",
    "        sleep(0.01)\n",
    "    end\n",
    "end"
   ]
  },
  {
   "cell_type": "code",
   "execution_count": null,
   "metadata": {
    "collapsed": true
   },
   "outputs": [],
   "source": []
  }
 ],
 "metadata": {
  "kernelspec": {
   "display_name": "Julia 0.5.0",
   "language": "julia",
   "name": "julia-0.5"
  },
  "language_info": {
   "file_extension": ".jl",
   "mimetype": "application/julia",
   "name": "julia",
   "version": "0.5.0"
  }
 },
 "nbformat": 4,
 "nbformat_minor": 2
}
