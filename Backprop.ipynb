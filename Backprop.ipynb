{
 "cells": [
  {
   "cell_type": "code",
   "execution_count": 1,
   "metadata": {
    "collapsed": false
   },
   "outputs": [],
   "source": [
    "using MNIST, Plots               "
   ]
  },
  {
   "cell_type": "code",
   "execution_count": 23,
   "metadata": {
    "collapsed": false
   },
   "outputs": [
    {
     "name": "stderr",
     "output_type": "stream",
     "text": [
      "WARNING: Method definition f(Any) in module Main at In[16]:1 overwritten at In[23]:1.\n",
      "WARNING: Method definition df(Any) in module Main at In[16]:2 overwritten at In[23]:2.\n"
     ]
    }
   ],
   "source": [
    "f(x) = 1./(1+exp(-x))     # logistic function activation\n",
    "df(y) = y.*(1-y)          # derivative of f composed with inverse of f\n",
    "\n",
    "m = 60000  # number of examples in training set\n",
    "\n",
    "n0 = 784       # widths of layers\n",
    "n1 = 25\n",
    "n2 = 10  \n",
    "\n",
    "eta=0.1       # learning rate parameter\n",
    "epsinit=0.01  # magnitude of initial conditions for synaptic weights\n",
    "\n",
    "# two fully connected synaptic layers\n",
    "W1 = epsinit*randn(n1,n0)\n",
    "W2 = epsinit*randn(n2,n1)\n",
    "\n",
    "# biases\n",
    "b1 = epsinit*randn(n1,1)\n",
    "b2 = epsinit*randn(n2,1)\n",
    "\n",
    "tmax=600000\n",
    "errsq = zeros(tmax)\n",
    "errcl = zeros(tmax);"
   ]
  },
  {
   "cell_type": "code",
   "execution_count": 25,
   "metadata": {
    "collapsed": false
   },
   "outputs": [
    {
     "ename": "LoadError",
     "evalue": "InterruptException:",
     "output_type": "error",
     "traceback": [
      "InterruptException:",
      "",
      " in expand_extrema!(::Plots.Axis, ::UnitRange{Int64}) at /Users/seung/.julia/v0.5/Plots/src/axes.jl:262",
      " in expand_extrema!(::Plots.Subplot{Plots.GRBackend}, ::Dict{Symbol,Any}) at /Users/seung/.julia/v0.5/Plots/src/axes.jl:289",
      " in _expand_subplot_extrema(::Plots.Subplot{Plots.GRBackend}, ::Dict{Symbol,Any}, ::Symbol) at /Users/seung/.julia/v0.5/Plots/src/pipeline.jl:361",
      " in _process_seriesrecipe(::Plots.Plot{Plots.GRBackend}, ::Dict{Symbol,Any}) at /Users/seung/.julia/v0.5/Plots/src/pipeline.jl:392",
      " in _plot!(::Plots.Plot{Plots.GRBackend}, ::Dict{Symbol,Any}, ::Tuple{Array{Float64,2}}) at /Users/seung/.julia/v0.5/Plots/src/plot.jl:227",
      " in (::Plots.#kw##plot)(::Array{Any,1}, ::Plots.#plot, ::Array{Float64,2}) at ./<missing>:0",
      " in macro expansion; at ./In[25]:34 [inlined]",
      " in anonymous at ./<missing>:?"
     ]
    }
   ],
   "source": [
    "gr(                        # GR backend for Plots\n",
    "    size = (600,600),    # you may need to change the numbers to fit your screen\n",
    "    yflip = true,          # matrix convention that rows are numbered from the top\n",
    "    color = :grays        # grayscale color map\n",
    ")\n",
    "for t = 1:tmax\n",
    "    i = ceil(Int, m*rand())\n",
    "    x0 = trainfeatures(i)/255\n",
    "    y = zeros(n2,1)\n",
    "    if trainlabel(i) == 0\n",
    "        y[10] = 1\n",
    "    else\n",
    "        y[convert(Int,trainlabel(i))] = 1\n",
    "    end\n",
    "    # forward pass   \n",
    "    x1 = f(W1*x0+b1)\n",
    "    x2 = f(W2*x1+b2)\n",
    "    # error computation\n",
    "    errsq[t] = sum((y-x2).^2)\n",
    "    delta2 = (y-x2).*df(x2)\n",
    "    errcl[t] = Float64(rem(indmax(x2),10) != trainlabel(i))\n",
    "#    println(rem(indmax(x2),10),\" \",trainlabel(i),\" \",errcl[t])\n",
    "    # backward pass\n",
    "    delta1 = (W2'*delta2).*df(x1)\n",
    "    W2 += eta*delta2*x1'\n",
    "    W1 += eta*delta1*x0'\n",
    "    b2 += eta*delta2\n",
    "    b1 += eta*delta1\n",
    "    if rem(t,1000) == 0    # display every 1000 time steps\n",
    "        avgerrsq = cumsum(errsq[1:t])./(1:t)\n",
    "        avgerrcl = cumsum(errcl[1:t])./(1:t)\n",
    "        IJulia.clear_output(true)\n",
    "        l = @layout [a b c d; grid(5,5){0.75h}]\n",
    "        plot(\n",
    "            heatmap(\n",
    "                reshape(x0,28,28),\n",
    "                axis = nothing,\n",
    "                legend = :none,\n",
    "                title = \"x0\"\n",
    "            ),\n",
    "            bar(x1, color = :auto, yflip = false, ylabel=\"x1\", legend=:none),\n",
    "            bar(x2,color = :auto, yflip = false, ylabel=\"x2\", legend=:none),\n",
    "            plot([avgerrsq avgerrcl], color = :auto, \n",
    "                yflip = false, ylabel = \"error\", label = [\"squared\",\"class\"],legend = :topright), \n",
    "            [heatmap(reshape(W1',28,28,n1)[:,:,i],axis=nothing) for i=1:n1]...,   # first layer weight vectors\n",
    "            layout = l\n",
    "        ) |> display\n",
    "        sleep(0.01)\n",
    "    end\n",
    "end"
   ]
  },
  {
   "cell_type": "code",
   "execution_count": null,
   "metadata": {
    "collapsed": true
   },
   "outputs": [],
   "source": []
  }
 ],
 "metadata": {
  "kernelspec": {
   "display_name": "Julia 0.5.0",
   "language": "julia",
   "name": "julia-0.5"
  },
  "language_info": {
   "file_extension": ".jl",
   "mimetype": "application/julia",
   "name": "julia",
   "version": "0.5.0"
  }
 },
 "nbformat": 4,
 "nbformat_minor": 2
}
