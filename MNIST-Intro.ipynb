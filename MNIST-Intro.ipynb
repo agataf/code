{
 "cells": [
  {
   "cell_type": "markdown",
   "metadata": {},
   "source": [
    "To run the code in a cell, position your cursor in the cell and Shift-Enter"
   ]
  },
  {
   "cell_type": "code",
   "execution_count": null,
   "metadata": {
    "collapsed": false
   },
   "outputs": [],
   "source": [
    "# Add this package if you haven't already installed it.\n",
    "Pkg.add(\"MNIST\")\n",
    "# see https://github.com/johnmyleswhite/MNIST.jl for documentation"
   ]
  },
  {
   "cell_type": "code",
   "execution_count": null,
   "metadata": {
    "collapsed": false
   },
   "outputs": [],
   "source": [
    "# Add and build the GR package (necessary if running Julia locally).\n",
    "Pkg.add(\"GR\")\n",
    "Pkg.build(\"GR\")"
   ]
  },
  {
   "cell_type": "code",
   "execution_count": null,
   "metadata": {
    "collapsed": false
   },
   "outputs": [],
   "source": [
    "# Add this package if you haven't already installed it.\n",
    "Pkg.add(\"Plots\")"
   ]
  },
  {
   "cell_type": "code",
   "execution_count": null,
   "metadata": {
    "collapsed": false
   },
   "outputs": [],
   "source": [
    "using MNIST, Plots\n",
    "gr(                        # GR backend for Plots\n",
    "    yflip = true,          # matrix convention that rows are numbered from the top\n",
    "    color = :grays        # grayscale color map\n",
    "    )                  "
   ]
  },
  {
   "cell_type": "code",
   "execution_count": null,
   "metadata": {
    "collapsed": true
   },
   "outputs": [],
   "source": [
    "trainimages, trainlabels = traindata();"
   ]
  },
  {
   "cell_type": "code",
   "execution_count": null,
   "metadata": {
    "collapsed": false
   },
   "outputs": [],
   "source": [
    "t = 1\n",
    "@printf(\"label=%d for image %d in the MNIST training set\",trainlabels[t],t)\n",
    "heatmap(\n",
    "    reshape(trainimages[:,t],28,28),  \n",
    "    title = @sprintf(\"image %d in the MNIST training set\",t)\n",
    ")"
   ]
  },
  {
   "cell_type": "code",
   "execution_count": null,
   "metadata": {
    "collapsed": false
   },
   "outputs": [],
   "source": [
    "# mean of all images in the training set\n",
    "heatmap(reshape(mean(trainimages,2),28,28))"
   ]
  },
  {
   "cell_type": "code",
   "execution_count": null,
   "metadata": {
    "collapsed": false
   },
   "outputs": [],
   "source": [
    "# black pixels are those that are zero for all images in the training set\n",
    "heatmap(reshape(maximum(trainimages,2).>0.0,28,28))"
   ]
  },
  {
   "cell_type": "code",
   "execution_count": null,
   "metadata": {
    "collapsed": false
   },
   "outputs": [],
   "source": [
    "# function for displaying a stack of images\n",
    "# imgstack is mxnxp array that contains p images, each of which is mxn \n",
    "function montage(imgstack)\n",
    "    plot(\n",
    "        [heatmap(imgstack[:,:,i], \n",
    "            legend=:none, axis=nothing,   # options necessary to get nice spacing of the images\n",
    "            color=:grays) \n",
    "            for i=1:size(imgstack,3)]...\n",
    "    )\n",
    "end"
   ]
  },
  {
   "cell_type": "code",
   "execution_count": null,
   "metadata": {
    "collapsed": false
   },
   "outputs": [],
   "source": [
    "montage(reshape(trainimages[:,1:9],28,28,9))"
   ]
  },
  {
   "cell_type": "code",
   "execution_count": null,
   "metadata": {
    "collapsed": false
   },
   "outputs": [],
   "source": [
    "# compute mean of images in each digit class\n",
    "trainmeans = zeros(784,10)\n",
    "for i=1:10\n",
    "    trainmeans[:,i] = mean(trainimages[:,trainlabels .== rem(i,10)],2)[:,1]\n",
    "end\n",
    "montage(reshape(trainmeans,28,28,10))"
   ]
  },
  {
   "cell_type": "code",
   "execution_count": null,
   "metadata": {
    "collapsed": false
   },
   "outputs": [],
   "source": [
    "# distribution over digit classes in training set\n",
    "histogram(trainlabels, \n",
    "    yflip = false, bins = -0.5:1:10.5, color = :auto, legend = :none,\n",
    "    xlabel = \"digit class\", ylabel = \"number of images\"\n",
    ")"
   ]
  }
 ],
 "metadata": {
  "kernelspec": {
   "display_name": "Julia 0.5.0",
   "language": "julia",
   "name": "julia-0.5"
  },
  "language_info": {
   "file_extension": ".jl",
   "mimetype": "application/julia",
   "name": "julia",
   "version": "0.5.0"
  }
 },
 "nbformat": 4,
 "nbformat_minor": 2
}
