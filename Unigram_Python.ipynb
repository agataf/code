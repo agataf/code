{
 "cells": [
  {
   "cell_type": "code",
   "execution_count": null,
   "metadata": {
    "collapsed": false
   },
   "outputs": [],
   "source": [
    "import matplotlib.pyplot as plt\n",
    "import numpy as np"
   ]
  },
  {
   "cell_type": "code",
   "execution_count": null,
   "metadata": {
    "collapsed": true
   },
   "outputs": [],
   "source": [
    "%matplotlib inline"
   ]
  },
  {
   "cell_type": "code",
   "execution_count": null,
   "metadata": {
    "collapsed": false
   },
   "outputs": [],
   "source": [
    "corpus = open('shakespeare.txt', 'r').read()"
   ]
  },
  {
   "cell_type": "code",
   "execution_count": null,
   "metadata": {
    "collapsed": false
   },
   "outputs": [],
   "source": [
    "alphabet = np.asarray(list(set(corpus)))\n",
    "char_to_ix = { ch:i for i,ch in enumerate(alphabet) }\n",
    "ix_to_char = { i:ch for i,ch in enumerate(alphabet) }\n",
    "ix_alphabet = np.asarray(range(len(alphabet)))\n",
    "ix_corpus = np.asarray([char_to_ix[c] for c in corpus])\n",
    "counts = np.zeros(len(alphabet))\n",
    "for i in range(len(alphabet)):\n",
    "    counts[i] = (ix_corpus == ix_alphabet[i]).sum()"
   ]
  },
  {
   "cell_type": "code",
   "execution_count": null,
   "metadata": {
    "collapsed": false
   },
   "outputs": [],
   "source": [
    "sort_ind = np.flip(np.argsort(counts), 0)"
   ]
  },
  {
   "cell_type": "code",
   "execution_count": null,
   "metadata": {
    "collapsed": false
   },
   "outputs": [],
   "source": [
    "plt.bar(ix_alphabet, counts[sort_ind], align='center', alpha=0.5)\n",
    "plt.xticks(ix_alphabet, alphabet[sort_ind])\n",
    "plt.ylabel('Frequency')\n",
    "plt.title('Character')\n",
    "fig = plt.gcf()\n",
    "fig.set_size_inches(15, 8)"
   ]
  },
  {
   "cell_type": "code",
   "execution_count": null,
   "metadata": {
    "collapsed": true
   },
   "outputs": [],
   "source": []
  }
 ],
 "metadata": {
  "kernelspec": {
   "display_name": "Python 2",
   "language": "python",
   "name": "python2"
  },
  "language_info": {
   "codemirror_mode": {
    "name": "ipython",
    "version": 2
   },
   "file_extension": ".py",
   "mimetype": "text/x-python",
   "name": "python",
   "nbconvert_exporter": "python",
   "pygments_lexer": "ipython2",
   "version": "2.7.10"
  }
 },
 "nbformat": 4,
 "nbformat_minor": 2
}
