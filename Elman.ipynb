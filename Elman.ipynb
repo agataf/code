{
 "cells": [
  {
   "cell_type": "markdown",
   "metadata": {},
   "source": [
    "Note that this is a preliminary version.  Please check the repo for updates."
   ]
  },
  {
   "cell_type": "code",
   "execution_count": 1,
   "metadata": {
    "collapsed": false
   },
   "outputs": [],
   "source": [
    "using TensorFlow\n",
    "using Distributions"
   ]
  },
  {
   "cell_type": "code",
   "execution_count": 2,
   "metadata": {
    "collapsed": false
   },
   "outputs": [
    {
     "data": {
      "text/plain": [
       "_build_graph (generic function with 1 method)"
      ]
     },
     "execution_count": 2,
     "metadata": {},
     "output_type": "execute_result"
    }
   ],
   "source": [
    "type RNN\n",
    "    \"\"\" hyperparameters (initialized by inner constructor)\"\"\"\n",
    "    batch_size\n",
    "    embedding_size\n",
    "    hidden_size\n",
    "    vocab_size      # number of chars in vocab\n",
    "    seq_length      # number of time steps to unroll the RNN\n",
    "    initial_learning_rate\n",
    "    decay_steps\n",
    "    decay_factor\n",
    "    sample_len\n",
    "\n",
    "    global_step\n",
    "\n",
    "    \"\"\" neural net weights and biases \"\"\"\n",
    "    embedding\n",
    "    U\n",
    "    W\n",
    "    bh\n",
    "    V\n",
    "    by\n",
    "\n",
    "    \"\"\"Sampling graph\"\"\"\n",
    "    sample_input_char\n",
    "    sample_input_hidden\n",
    "    next_y\n",
    "    next_hidden\n",
    "\n",
    "    \"\"\"Training graph\"\"\"\n",
    "    inputs\n",
    "    targets\n",
    "    predictions\n",
    "    cost\n",
    "    train_step\n",
    "    learning_rate\n",
    "\n",
    "    sess\n",
    "\n",
    "    RNN(batch_size, embedding_size, hidden_size, vocab_size, seq_length, initial_learning_rate, decay_steps, decay_factor, sample_len, global_step = Variable(0.0, trainable=false) ) =\n",
    "        new(batch_size, embedding_size, hidden_size, vocab_size, seq_length, initial_learning_rate, decay_steps, decay_factor, sample_len, global_step, sample_len, global_step)\n",
    "end\n",
    "\n",
    "function _init_params(self::RNN)\n",
    "        \"\"\"Create the model parameters\"\"\"\n",
    "    self.embedding = Variable(0.2*randn(Float32, self.vocab_size, self.embedding_size))   # learn embedding for each character\n",
    "    self.U = Variable(0.2*randn(Float32, self.embedding_size, self.hidden_size))\n",
    "    self.W = Variable(0.2*randn(Float32, self.hidden_size, self.hidden_size))\n",
    "    self.bh = Variable(zeros(Float32, 1, self.hidden_size))\n",
    "    self.V = Variable(0.2*randn(Float32, self.hidden_size, self.vocab_size))\n",
    "    self.by = Variable(zeros(Float32, 1, self.vocab_size))\n",
    "end\n",
    "\n",
    "function _rnn_step(self::RNN, x, h)\n",
    "    \"\"\"Performs RNN computation for one timestep:\n",
    "        takes a previous x and h, and computes y (prediction of next x) and h.\n",
    "            \n",
    "        In practical applications, you should almost always use TensorFlow's built-in RNN cells,\n",
    "        from tf.contrib.rnn. However for teaching purposes we are writing the RNN from scratch here.\n",
    "    \"\"\"\n",
    "    h = nn.sigmoid(x * self.U + h * self.W + self.bh)\n",
    "    y = h * self.V + self.by\n",
    "\n",
    "    return y, h\n",
    "end\n",
    "    \n",
    "function _forward(self::RNN, inputs)\n",
    "    \"\"\"Performs the forward pass for all timesteps in a sequence.\"\"\"\n",
    "\n",
    "    # Create list to hold y\n",
    "    y = Array{TensorFlow.Tensor{Float32},1}(self.seq_length)\n",
    "    \n",
    "    # Create zero-d initial hidden state\n",
    "    h = constant(zeros(Float32, self.batch_size, self.hidden_size))\n",
    "    \n",
    "    for t = 1:self.seq_length\n",
    "        x = cast(nn.embedding_lookup(self.embedding, inputs[:, t]),Float32)\n",
    "        y[t], h = _rnn_step(self, x, h)\n",
    "    end\n",
    "\n",
    "    return y\n",
    "end\n",
    "\n",
    "    \n",
    "function _sample_one(self::RNN, input_character, input_hidden)\n",
    "    \"\"\"Sample the single next character in a sequence.\n",
    "\n",
    "       We can use this to sample sequences of any length w/o having to alter\n",
    "       the tensorflow graph.\"\"\"\n",
    "\n",
    "    # We expand dims because tf expects a batch\n",
    "    character = expand_dims(input_character, 1)\n",
    "\n",
    "    # Get the embedding for the input character\n",
    "    x = nn.embedding_lookup(self.embedding, character)\n",
    "    \n",
    "    # Perform the RNN look up\n",
    "    y, h = _rnn_step(self, x, input_hidden)\n",
    "\n",
    "    return y, h\n",
    "end\n",
    "\n",
    "function _build_graph(self::RNN)\n",
    "    \"\"\"Build the computation graphs for training and sampling.\n",
    "\n",
    "        All placeholders are defined in this method.\"\"\"\n",
    "\n",
    "    \"\"\"Sampling graph\"\"\"\n",
    "    self.sample_input_char = placeholder(Int32, shape=[])\n",
    "    self.sample_input_hidden = placeholder(Float32, shape=[1, self.hidden_size])\n",
    "    \n",
    "    self.next_y, self.next_hidden = _sample_one(self,\n",
    "       self.sample_input_char, self.sample_input_hidden)\n",
    "\n",
    "    \"\"\"Training graph\"\"\"\n",
    "    self.inputs = placeholder(Int32, shape=[-1, self.seq_length])\n",
    "    self.targets = placeholder(Int32, shape=[-1, self.seq_length])\n",
    "    self.predictions = _forward(self, self.inputs)\n",
    "\n",
    "    cost_per_timestep_per_example = [\n",
    "        nn.sparse_softmax_cross_entropy_with_logits(\n",
    "            logits = self.predictions[t],\n",
    "            labels = self.targets[:, t])\n",
    "        for t=1:self.seq_length\n",
    "    ]\n",
    "\n",
    "    # Use reduce_mean over the examples in batch so that we don't need to\n",
    "    # change the learning rate when we change the batch size.\n",
    "    cost_per_timestep = [reduce_mean(cost) for cost in cost_per_timestep_per_example]\n",
    "    \n",
    "    # Total cost is cost averaged over timesteps.\n",
    "    self.cost = mean(cost_per_timestep)\n",
    "\n",
    "#    self.learning_rate = self.initial_learning_rate * self.decay_factor ^ (self.global_step/self.decay_steps)       \n",
    "#    self.train_step = train.minimize(train.GradientDescentOptimizer(self.learning_rate), self.cost, global_step=self.global_step)\n",
    "\n",
    "    self.learning_rate = self.initial_learning_rate * self.decay_factor ^ (self.global_step/self.decay_steps)\n",
    "\n",
    "    self.train_step = train.minimize(train.AdamOptimizer(self.initial_learning_rate), self.cost)\n",
    "\n",
    "    \"\"\"Finished creating graph: start session and init vars\"\"\"\n",
    "    self.sess = Session()  \n",
    "\n",
    "    run(self.sess, global_variables_initializer())\n",
    "end"
   ]
  },
  {
   "cell_type": "code",
   "execution_count": 3,
   "metadata": {
    "collapsed": false
   },
   "outputs": [
    {
     "data": {
      "text/plain": [
       "run_sample (generic function with 2 methods)"
      ]
     },
     "execution_count": 3,
     "metadata": {},
     "output_type": "execute_result"
    }
   ],
   "source": [
    "function run_train(self::RNN, input_chars, target_chars)\n",
    "    \"\"\"Call this to run a train step\"\"\"\n",
    "    cost, lr, _ = run(self.sess, [self.cost, self.learning_rate, self.train_step],\n",
    "                      Dict(self.inputs => input_chars,\n",
    "                           self.targets => target_chars\n",
    "                           )\n",
    "                  )\n",
    "    return cost, lr\n",
    "end\n",
    "\n",
    "function run_sample(self::RNN, n, starter_character, temperature=1.0)\n",
    "    \"\"\"Call this to sample a length-n sequence from the model\"\"\"   \n",
    "    \n",
    "    sampled_chars = [_ for _=1:n]\n",
    "    current_char = starter_character\n",
    "    h = zeros(Float32, 1, self.hidden_size)\n",
    "\n",
    "    for i in 1:n\n",
    "        current_output, h = run(self.sess, [self.next_y, self.next_hidden],\n",
    "                              Dict(self.sample_input_char => current_char,\n",
    "                                   self.sample_input_hidden => h\n",
    "                                   )\n",
    "                              )\n",
    "        probs = exp(current_output/temperature)\n",
    "        probs = probs/sum(probs)\n",
    "        current_char = rand(Categorical(probs[:]))\n",
    "        sampled_chars[i] = current_char\n",
    "    end\n",
    "    return sampled_chars\n",
    "end"
   ]
  },
  {
   "cell_type": "code",
   "execution_count": null,
   "metadata": {
    "collapsed": false
   },
   "outputs": [
    {
     "name": "stdout",
     "output_type": "stream",
     "text": [
      "data has 1115394 characters, 65 unique."
     ]
    },
    {
     "name": "stderr",
     "output_type": "stream",
     "text": [
      "I tensorflow/stream_executor/dso_loader.cc:135] successfully opened CUDA library libcublas.so.8.0 locally\n",
      "I tensorflow/stream_executor/dso_loader.cc:135] successfully opened CUDA library libcudnn.so.5 locally\n",
      "I tensorflow/stream_executor/dso_loader.cc:135] successfully opened CUDA library libcufft.so.8.0 locally\n",
      "I tensorflow/stream_executor/dso_loader.cc:135] successfully opened CUDA library libcuda.so.1 locally\n",
      "I tensorflow/stream_executor/dso_loader.cc:135] successfully opened CUDA library libcurand.so.8.0 locally\n"
     ]
    },
    {
     "name": "stdout",
     "output_type": "stream",
     "text": [
      "iter 100, loss: 2.436090, learning rate: 0.001000\n",
      "iter "
     ]
    },
    {
     "name": "stderr",
     "output_type": "stream",
     "text": [
      "2017-04-26 01:06:27.550446: E tensorflow/stream_executor/cuda/cuda_driver.cc:405] failed call to cuInit: CUDA_ERROR_UNKNOWN\n",
      "2017-04-26 01:06:27.550491: I tensorflow/stream_executor/cuda/cuda_diagnostics.cc:158] retrieving CUDA diagnostic information for host: amacrine\n",
      "2017-04-26 01:06:27.550501: I tensorflow/stream_executor/cuda/cuda_diagnostics.cc:165] hostname: amacrine\n",
      "2017-04-26 01:06:27.550553: I tensorflow/stream_executor/cuda/cuda_diagnostics.cc:189] libcuda reported version is: 381.9.0\n",
      "2017-04-26 01:06:27.550575: I tensorflow/stream_executor/cuda/cuda_diagnostics.cc:369] driver version file contents: \"\"\"NVRM version: NVIDIA UNIX x86_64 Kernel Module  381.09  Thu Mar 30 20:07:40 PDT 2017\n",
      "GCC version:  gcc version 5.4.0 20160609 (Ubuntu 5.4.0-6ubuntu1~16.04.4) \n",
      "\"\"\"\n",
      "2017-04-26 01:06:27.550592: I tensorflow/stream_executor/cuda/cuda_diagnostics.cc:193] kernel reported version is: 381.9.0\n",
      "2017-04-26 01:06:27.550600: I tensorflow/stream_executor/cuda/cuda_diagnostics.cc:300] kernel version seems to match DSO: 381.9.0\n"
     ]
    },
    {
     "name": "stdout",
     "output_type": "stream",
     "text": [
      "200, loss: 2.312053, learning rate: 0.001000\n",
      "iter 300, loss: 2.255067, learning rate: 0.001000\n",
      "iter 400, loss: 2.177279, learning rate: 0.001000\n",
      "iter 500, loss: 2.084801, learning rate: 0.001000\n",
      "iter "
     ]
    }
   ],
   "source": [
    "# data I/O\n",
    "fid = open(\"shakespeare.txt\") # should be simple plain text file\n",
    "data = readstring(fid)\n",
    "close(fid)\n",
    "chars = unique(data)\n",
    "data_size, vocab_size = length(data), length(chars)\n",
    "@printf \"data has %d characters, %d unique.\" data_size vocab_size\n",
    "char_to_ix = Dict(chars[i] => i for i=1:vocab_size )\n",
    "ix_to_char = Dict(i => chars[i] for i=1:vocab_size )\n",
    "\n",
    "\n",
    "# hyperparameters\n",
    "embedding_size = 32 # size of embedding\n",
    "hidden_size = 256 # size of hidden layers of neurons\n",
    "seq_length = 50 # number of steps to unroll the RNN for\n",
    "initial_learning_rate = 1e-3\n",
    "decay_steps = 500.0\n",
    "decay_factor = 0.9\n",
    "sample_len = 500\n",
    "\n",
    "batch_size = 128\n",
    "\n",
    "n_train_steps = 100000\n",
    "\n",
    "# model parameters\n",
    "rnn = RNN(batch_size, embedding_size, hidden_size, vocab_size, \n",
    "          seq_length, initial_learning_rate, decay_steps, decay_factor, sample_len)\n",
    "\n",
    "_init_params(rnn)\n",
    "_build_graph(rnn)\n",
    "\n",
    "loss = zeros(n_train_steps)\n",
    "\n",
    "for n = 1:n_train_steps\n",
    "\n",
    "    # prepare inputs \n",
    "    inputs = zeros(Int32, batch_size, seq_length)\n",
    "    targets = zeros(Int32, batch_size, seq_length)\n",
    "    \n",
    "    for i = 1:batch_size\n",
    "        # randomly index into the data for each example in batch\n",
    "        random_index = Int32(ceil(rand() * (data_size - seq_length)))\n",
    "        inputs[i, :] = [char_to_ix[ch] for ch in data[random_index:random_index+seq_length-1]]\n",
    "        targets[i, :] = [char_to_ix[ch] for ch in data[random_index+1:random_index+seq_length]]\n",
    "    end\n",
    "\n",
    "    loss[n], lr = run_train(rnn, inputs, targets)\n",
    "\n",
    "    # print progress\n",
    "    if n % 100 == 0\n",
    "        @printf(\"iter %d, loss: %f, learning rate: %f\\n\", n, loss[n], lr)\n",
    "    end\n",
    "\n",
    "    # sample from the model now and then\n",
    "    if n % 1000 == 0\n",
    "        sample_ix = run_sample(rnn, sample_len, inputs[1, 1], 1.0)\n",
    "        txt = string(map(string,[ix_to_char[ix] for ix in sample_ix])...)\n",
    "        @printf(\"----\\n %s \\n----\\n\", txt)\n",
    "    end\n",
    "end"
   ]
  },
  {
   "cell_type": "code",
   "execution_count": null,
   "metadata": {
    "collapsed": true
   },
   "outputs": [],
   "source": []
  }
 ],
 "metadata": {
  "kernelspec": {
   "display_name": "Julia 0.5.0",
   "language": "julia",
   "name": "julia-0.5"
  },
  "language_info": {
   "file_extension": ".jl",
   "mimetype": "application/julia",
   "name": "julia",
   "version": "0.5.0"
  }
 },
 "nbformat": 4,
 "nbformat_minor": 2
}
