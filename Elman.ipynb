{
 "cells": [
  {
   "cell_type": "markdown",
   "metadata": {},
   "source": [
    "# Character-level RNN model\n",
    "\n",
    "Based on Python version by Alex Beatson\n",
    "\n",
    "Translation to Julia by Sebastian Seung\n",
    "\n",
    "Data I/O adapted from Andrej Karpathy's CharRNN gist: https://gist.github.com/karpathy/d4dee566867f8291f086\n",
    "\n",
    "See his blog post for some fun applications of RNNs: http://karpathy.github.io/2015/05/21/rnn-effectiveness/\n",
    "\n",
    "BSD License"
   ]
  },
  {
   "cell_type": "markdown",
   "metadata": {},
   "source": [
    "## Design notes:\n",
    "The composite type `RNN` contains the parameters and hyperparameters and nodes of the computation graph. \n",
    "\n",
    "Methods are associated with types through [multiple dispatch](https://docs.julialang.org/en/stable/manual/methods/#man-methods).\n",
    "\n",
    "Methods preceded by underscore (e.g. `_init_params`, `_rnn_step`) contain TF functions and are used to build the computation graphs for training and sampling. Placeholders are defined in `_build_graph`.\n",
    "\n",
    "Methods without underscore (`run_train`, `run_sample`) run a TF session and feed placeholder values but otherwise contain no TF functions."
   ]
  },
  {
   "cell_type": "markdown",
   "metadata": {},
   "source": [
    "## Student note:\n",
    "You should focus on understanding the RNN methods `_init_params`, `_rnn_step`, and `_forward`."
   ]
  },
  {
   "cell_type": "code",
   "execution_count": null,
   "metadata": {
    "collapsed": false
   },
   "outputs": [],
   "source": [
    "using TensorFlow\n",
    "using Distributions   # for sampling from Categorical distribution"
   ]
  },
  {
   "cell_type": "markdown",
   "metadata": {},
   "source": [
    "### `RNN` is a [composite type](https://docs.julialang.org/en/stable/manual/types/#composite-types) in Julia, which is analogous to an object in other languages."
   ]
  },
  {
   "cell_type": "code",
   "execution_count": null,
   "metadata": {
    "collapsed": false
   },
   "outputs": [],
   "source": [
    "type RNN\n",
    "    \"\"\" hyperparameters (initialized by inner constructor)\"\"\"\n",
    "    batch_size\n",
    "    embedding_size\n",
    "    hidden_size\n",
    "    vocab_size      # number of chars in vocab\n",
    "    seq_length      # number of time steps to unroll the RNN\n",
    "    initial_learning_rate\n",
    "    decay_steps     # not used, as annealing the learning rate is not currently implemented in Julia version\n",
    "    decay_factor    #\n",
    "\n",
    "    global_step\n",
    "\n",
    "    \"\"\" neural net weights and biases \"\"\"\n",
    "    embedding\n",
    "    U\n",
    "    W\n",
    "    bh\n",
    "    V\n",
    "    by\n",
    "\n",
    "    \"\"\"Sampling graph\"\"\"\n",
    "    sample_input_char\n",
    "    sample_input_hidden\n",
    "    next_y\n",
    "    next_hidden\n",
    "\n",
    "    \"\"\"Training graph\"\"\"\n",
    "    inputs\n",
    "    targets\n",
    "    predictions\n",
    "    cost\n",
    "    train_step\n",
    "    learning_rate\n",
    "\n",
    "    sess\n",
    "\n",
    "    # inner constructor\n",
    "    RNN(batch_size, embedding_size, hidden_size, vocab_size, seq_length, initial_learning_rate, decay_steps, decay_factor, global_step = Variable(0.0, trainable=false) ) =\n",
    "        new(batch_size, embedding_size, hidden_size, vocab_size, seq_length, initial_learning_rate, decay_steps, decay_factor, global_step)\n",
    "end\n",
    "\n",
    "function _init_params(self::RNN)    # Create/initialize the trainable parameters\n",
    "    self.embedding = Variable(0.2*randn(Float32, self.vocab_size, self.embedding_size))   # learn embedding for each character\n",
    "    self.U = Variable(0.2*randn(Float32, self.embedding_size, self.hidden_size))\n",
    "    self.W = Variable(0.2*randn(Float32, self.hidden_size, self.hidden_size))\n",
    "    self.bh = Variable(zeros(Float32, 1, self.hidden_size))\n",
    "    self.V = Variable(0.2*randn(Float32, self.hidden_size, self.vocab_size))\n",
    "    self.by = Variable(zeros(Float32, 1, self.vocab_size))\n",
    "end\n",
    "\n",
    "function _rnn_step(self::RNN, x, h)\n",
    "    \"\"\"Performs RNN computation for one timestep:\n",
    "        takes a previous x and h, and computes y (prediction of next x) and h.\n",
    "            \n",
    "        In practical applications, you should almost always use TensorFlow's built-in RNN cells,\n",
    "        from tf.contrib.rnn. However for teaching purposes we are writing the RNN from scratch here.\n",
    "    \"\"\"\n",
    "    h = nn.sigmoid(x * self.U + h * self.W + self.bh)\n",
    "    y = h * self.V + self.by\n",
    "\n",
    "    return y, h\n",
    "end\n",
    "    \n",
    "function _forward(self::RNN, inputs)\n",
    "    \"\"\"Performs the forward pass for all timesteps in a sequence.\"\"\"\n",
    "\n",
    "    # Create list to hold y\n",
    "    y = Array{TensorFlow.Tensor{Float32},1}(self.seq_length)\n",
    "    \n",
    "    # Create zero-d initial hidden state\n",
    "    h = constant(zeros(Float32, self.batch_size, self.hidden_size))\n",
    "    \n",
    "    for t = 1:self.seq_length\n",
    "        x = cast(nn.embedding_lookup(self.embedding, inputs[:, t]),Float32)\n",
    "        y[t], h = _rnn_step(self, x, h)\n",
    "    end\n",
    "\n",
    "    return y\n",
    "end\n",
    "    \n",
    "function _rnn_step_char(self::RNN, input_character, h)\n",
    "    \"\"\"This is like _rnn_step, except that the input is a character rather than an embedding vector.\n",
    "\n",
    "       This is used for sequence generation w/o having to alter\n",
    "       the tensorflow graph.\"\"\"\n",
    "\n",
    "    # We expand dims because tf expects a batch\n",
    "    character = expand_dims(input_character, 1)\n",
    "\n",
    "    # Get the embedding for the input character\n",
    "    x = nn.embedding_lookup(self.embedding, character)\n",
    "    \n",
    "    # Perform the RNN look up\n",
    "    y, h = _rnn_step(self, x, h)\n",
    "\n",
    "    return y, h\n",
    "end\n",
    "\n",
    "function _build_graph(self::RNN)\n",
    "    \"\"\"Build the computation graphs for training and sampling.\n",
    "\n",
    "        All placeholders are defined in this method.\"\"\"\n",
    "\n",
    "    \"\"\"Sampling graph\"\"\"\n",
    "    self.sample_input_char = placeholder(Int32, shape=[])\n",
    "    self.sample_input_hidden = placeholder(Float32, shape=[1, self.hidden_size])\n",
    "    \n",
    "    self.next_y, self.next_hidden = _rnn_step_char(self,\n",
    "       self.sample_input_char, self.sample_input_hidden)\n",
    "\n",
    "    \"\"\"Training graph\"\"\"\n",
    "    self.inputs = placeholder(Int32, shape=[-1, self.seq_length])\n",
    "    self.targets = placeholder(Int32, shape=[-1, self.seq_length])\n",
    "    self.predictions = _forward(self, self.inputs)\n",
    "\n",
    "    cost_per_timestep_per_example = [\n",
    "        nn.sparse_softmax_cross_entropy_with_logits(\n",
    "            logits = self.predictions[t],\n",
    "            labels = self.targets[:, t])\n",
    "        for t=1:self.seq_length\n",
    "    ]\n",
    "\n",
    "    # Use reduce_mean over the examples in batch so that we don't need to\n",
    "    # change the learning rate when we change the batch size.\n",
    "    cost_per_timestep = [reduce_mean(cost) for cost in cost_per_timestep_per_example]\n",
    "    \n",
    "    # Total cost is cost averaged over timesteps.\n",
    "    self.cost = mean(cost_per_timestep)\n",
    "\n",
    "    # for annealing the learning rate (not currently used)\n",
    "    self.learning_rate = self.initial_learning_rate * self.decay_factor ^ (self.global_step/self.decay_steps)\n",
    "\n",
    "    self.train_step = train.minimize(train.AdamOptimizer(self.initial_learning_rate, 0, .9, 1e-10, \"Adam\"), self.cost)\n",
    "\n",
    "    \"\"\"Finished creating graph: start session and init vars\"\"\"\n",
    "    self.sess = Session()  \n",
    "\n",
    "    run(self.sess, global_variables_initializer())\n",
    "end"
   ]
  },
  {
   "cell_type": "code",
   "execution_count": null,
   "metadata": {
    "collapsed": false
   },
   "outputs": [],
   "source": [
    "function run_train(self::RNN, input_chars, target_chars)\n",
    "    \"\"\"Call this to run a train step\"\"\"\n",
    "    cost, lr, _ = run(self.sess, [self.cost, self.learning_rate, self.train_step],\n",
    "                      Dict(self.inputs => input_chars,\n",
    "                           self.targets => target_chars\n",
    "                           )\n",
    "                  )\n",
    "    return cost, lr\n",
    "end\n",
    "\n",
    "function run_sample(self::RNN, n, starter_character, temperature=1.0)\n",
    "    \"\"\"Call this to sample a length-n sequence from the model\"\"\"   \n",
    "    \n",
    "    sampled_chars = [_ for _=1:n]\n",
    "    current_char = starter_character\n",
    "    h = zeros(Float32, 1, self.hidden_size)\n",
    "\n",
    "    for i in 1:n\n",
    "        current_output, h = run(self.sess, [self.next_y, self.next_hidden],\n",
    "                              Dict(self.sample_input_char => current_char,\n",
    "                                   self.sample_input_hidden => h\n",
    "                                   )\n",
    "                              )\n",
    "        probs = exp((current_output-maximum(current_output))/temperature)\n",
    "        probs = probs/sum(probs)\n",
    "        current_char = rand(Categorical(probs[:]))\n",
    "        sampled_chars[i] = current_char\n",
    "    end\n",
    "    return sampled_chars\n",
    "end"
   ]
  },
  {
   "cell_type": "code",
   "execution_count": null,
   "metadata": {
    "collapsed": false
   },
   "outputs": [],
   "source": [
    "# data I/O\n",
    "fid = open(\"shakespeare.txt\") # should be simple plain text file\n",
    "data = readstring(fid)\n",
    "close(fid)\n",
    "chars = unique(data)\n",
    "data_size, vocab_size = length(data), length(chars)\n",
    "@printf \"data has %d characters, %d unique.\\n\" data_size vocab_size\n",
    "char_to_ix = Dict(chars[i] => i for i=1:vocab_size )\n",
    "ix_to_char = Dict(i => chars[i] for i=1:vocab_size )\n",
    "\n",
    "\n",
    "# hyperparameters\n",
    "embedding_size = 32 # size of embedding\n",
    "hidden_size = 256 # size of hidden layers of neurons\n",
    "seq_length = 50 # number of steps to unroll the RNN for\n",
    "initial_learning_rate = 1e-2\n",
    "decay_steps = 500.0\n",
    "decay_factor = 0.9\n",
    "sample_len = 500\n",
    "\n",
    "batch_size = 128\n",
    "\n",
    "n_train_steps = 100000\n",
    "\n",
    "# model parameters\n",
    "rnn = RNN(batch_size, embedding_size, hidden_size, vocab_size, \n",
    "          seq_length, initial_learning_rate, decay_steps, decay_factor)\n",
    "\n",
    "_init_params(rnn)\n",
    "_build_graph(rnn)\n",
    "\n",
    "loss = zeros(n_train_steps)\n",
    "\n",
    "# prepare inputs and target values\n",
    "inputs = zeros(Int32, batch_size, seq_length)\n",
    "targets = zeros(Int32, batch_size, seq_length)\n",
    "    \n",
    "for n = 1:n_train_steps\n",
    "    for i = 1:batch_size\n",
    "        # randomly index into the data for each example in batch\n",
    "        random_index = Int32(ceil(rand() * (data_size - seq_length)))\n",
    "        inputs[i, :] = [char_to_ix[ch] for ch in data[random_index:random_index+seq_length-1]]\n",
    "        targets[i, :] = [char_to_ix[ch] for ch in data[random_index+1:random_index+seq_length]]\n",
    "    end\n",
    "\n",
    "    loss[n], lr = run_train(rnn, inputs, targets)\n",
    "\n",
    "    # print progress\n",
    "    if n % 100 == 0\n",
    "        @printf(\"iter %d, loss: %f\\n\", n, loss[n])\n",
    "    end\n",
    "\n",
    "    # sample from the model now and then\n",
    "    if n % 1000 == 0\n",
    "        sample_ix = run_sample(rnn, sample_len, inputs[1, 1], 1.0)\n",
    "        txt = string(map(string,[ix_to_char[ix] for ix in sample_ix])...)\n",
    "        @printf(\"----\\n %s \\n----\\n\", txt)\n",
    "    end\n",
    "end"
   ]
  },
  {
   "cell_type": "markdown",
   "metadata": {
    "collapsed": true
   },
   "source": [
    "## What is the cost after 10,000 train steps (if using the default batch_size and seq_length)?"
   ]
  },
  {
   "cell_type": "markdown",
   "metadata": {},
   "source": [
    "*Insert answer here*"
   ]
  },
  {
   "cell_type": "markdown",
   "metadata": {},
   "source": [
    "## Let's try sampling with high temperature:"
   ]
  },
  {
   "cell_type": "code",
   "execution_count": null,
   "metadata": {
    "collapsed": false
   },
   "outputs": [],
   "source": [
    "sample_ix = run_sample(rnn, sample_len, inputs[1, 1], 100.0)\n",
    "txt = string(map(string,[ix_to_char[ix] for ix in sample_ix])...)\n",
    "@printf(\"----\\n %s \\n----\\n\", txt)"
   ]
  },
  {
   "cell_type": "code",
   "execution_count": null,
   "metadata": {
    "collapsed": true
   },
   "outputs": [],
   "source": [
    "## Now with very low temperature:"
   ]
  },
  {
   "cell_type": "code",
   "execution_count": null,
   "metadata": {
    "collapsed": false
   },
   "outputs": [],
   "source": [
    "sample_ix = run_sample(rnn, sample_len, inputs[1, 1], 0.001)\n",
    "txt = string(map(string,[ix_to_char[ix] for ix in sample_ix])...)\n",
    "@printf(\"----\\n %s \\n----\\n\", txt)"
   ]
  },
  {
   "cell_type": "markdown",
   "metadata": {},
   "source": [
    "## How do the samples qualitatively change? What does changing the temperature do to distribution of possible outputs?\n",
    "In the softmax function with a temperature T, we use e^(x_i / T) instead of e^(x_i):\n",
    "output_i = e^(x_i / T) / Z, where Z is the normalizer: Z = sum_j e^(x_j / T)"
   ]
  },
  {
   "cell_type": "markdown",
   "metadata": {},
   "source": [
    "*Insert answer here*\n",
    "\n",
    "Type Markdown and LaTeX:  $\\alpha^2$"
   ]
  }
 ],
 "metadata": {
  "kernelspec": {
   "display_name": "Julia 0.5.1",
   "language": "julia",
   "name": "julia-0.5"
  },
  "language_info": {
   "file_extension": ".jl",
   "mimetype": "application/julia",
   "name": "julia",
   "version": "0.5.0"
  }
 },
 "nbformat": 4,
 "nbformat_minor": 2
}
