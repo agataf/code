{
 "cells": [
  {
   "cell_type": "code",
   "execution_count": null,
   "metadata": {
    "collapsed": true
   },
   "outputs": [],
   "source": [
    "import scipy.signal\n",
    "import numpy as np\n",
    "import matplotlib.pyplot as plt\n",
    "from sklearn.datasets import fetch_mldata\n",
    "import time\n",
    "from IPython import display"
   ]
  },
  {
   "cell_type": "code",
   "execution_count": null,
   "metadata": {
    "collapsed": true
   },
   "outputs": [],
   "source": [
    "# grayscale and inline plotting\n",
    "%matplotlib inline\n",
    "plt.rcParams['image.cmap'] = 'gray'"
   ]
  },
  {
   "cell_type": "code",
   "execution_count": null,
   "metadata": {
    "collapsed": true
   },
   "outputs": [],
   "source": [
    "# using scipy's 2d convolution function\n",
    "conv = scipy.signal.convolve# modes include \"full\", \"valid\", and \"same\"\n",
    "conv2 = scipy.signal.convolve2d # modes include \"full\", \"valid\", and \"same\""
   ]
  },
  {
   "cell_type": "markdown",
   "metadata": {},
   "source": [
    "### Exercise 1. Complete the following code to implement 1D \"full\" convolution. You need only fill in the question marks."
   ]
  },
  {
   "cell_type": "code",
   "execution_count": null,
   "metadata": {
    "collapsed": false
   },
   "outputs": [],
   "source": [
    "\"\"\"\n",
    "`CONV_FULL` - 1D \"full\" convolution\n",
    "\n",
    "    R = CONV_FULL(W, S) \n",
    "\n",
    "* `W`: 1D array\n",
    "* `S`: 1D array\n",
    "* `R`: \"full\" convolution of W and S\n",
    "\"\"\"\n",
    "def conv_full(w,s):\n",
    "    r = np.zeros(?)\n",
    "    for i in range(?):\n",
    "        for j in range(?):\n",
    "            r[?] += w[i]*s[j]\n",
    "    return r"
   ]
  },
  {
   "cell_type": "markdown",
   "metadata": {},
   "source": [
    "### Test your function by comparing with the built-in `conv` function. The output of the following should be true, if your code is correct."
   ]
  },
  {
   "cell_type": "code",
   "execution_count": null,
   "metadata": {
    "collapsed": false
   },
   "outputs": [],
   "source": [
    "a = np.random.rand(10)\n",
    "b = np.random.rand(3)\n",
    "np.isclose(conv_full(a,b), conv(a,b)).all()"
   ]
  },
  {
   "cell_type": "markdown",
   "metadata": {},
   "source": [
    "### Exercise 2. Complete the following code to implement 2D \"full\" convolution. You need only fill in the question marks."
   ]
  },
  {
   "cell_type": "code",
   "execution_count": null,
   "metadata": {
    "collapsed": true
   },
   "outputs": [],
   "source": [
    "\"\"\"\n",
    "`CONV2_FULL` - 2D \"full\" convolution\n",
    "\n",
    "    R = CONV2_FULL(W, S) \n",
    "\n",
    "* `W`: 2D array\n",
    "* `S`: 2D array\n",
    "* `R`: \"full\" convolution of W and S\n",
    "\"\"\"\n",
    "def conv2_full(w,s):\n",
    "    wsize1, wsize2 = w.shape\n",
    "    ssize1, ssize2 = s.shape\n",
    "    r = np.zeros([?, ?])\n",
    "    for i1 in range(?):\n",
    "        for i2 in range(?):\n",
    "            for j1 in range(?):\n",
    "                for j2 in range(?):\n",
    "                    r[?, ?] += w[i1, i2] * s[j1, j2]\n",
    "    return r"
   ]
  },
  {
   "cell_type": "markdown",
   "metadata": {},
   "source": [
    "### Test your function by comparing with the built-in `conv2` function. The output of the following should be true, if your code is correct."
   ]
  },
  {
   "cell_type": "code",
   "execution_count": null,
   "metadata": {
    "collapsed": false
   },
   "outputs": [],
   "source": [
    "a = np.random.rand(10,6)\n",
    "b = np.random.rand(3,2)\n",
    "np.isclose(conv2_full(a,b), conv2(a,b)).all()"
   ]
  },
  {
   "cell_type": "markdown",
   "metadata": {},
   "source": [
    "### Exercise 3. In class you learned that 1D convolution is equivalent to multiplication by a Toeplitz matrix, where the size of the matrix depends on the length of the input signal. Complete the following code to construct the matrix. You need only fill in the question marks."
   ]
  },
  {
   "cell_type": "code",
   "execution_count": null,
   "metadata": {
    "collapsed": false
   },
   "outputs": [],
   "source": [
    "\"\"\"\n",
    "`CONVMTX` - 1D convolution matrix\n",
    "\n",
    "    MTX = CONVMTX(KERNEL, INSIZE) \n",
    "\n",
    "* `KERNEL`: kernel of the convolution\n",
    "* `INSIZE`: length of the input signal\n",
    "* `MTX`: multiplication by MTX is equivalent to convolution by KERNEL\n",
    "\"\"\"\n",
    "def convmtx(kernel, insize, shape = \"full\"):\n",
    "    kernelsize = len(kernel)\n",
    "    outsize = ?\n",
    "    mtx = np.zeros([outsize, insize])\n",
    "\n",
    "    for i in range(insize):\n",
    "        mtx[?:?, i] = kernel\n",
    "\n",
    "    if shape == \"valid\":\n",
    "        mtx = mtx[ ?:? , :]\n",
    "    \n",
    "    return mtx"
   ]
  },
  {
   "cell_type": "markdown",
   "metadata": {},
   "source": [
    "### Test that multiplication by your matrix is equivalent to convolution. The output of the following should be true, if your code is correct."
   ]
  },
  {
   "cell_type": "code",
   "execution_count": null,
   "metadata": {
    "collapsed": false
   },
   "outputs": [],
   "source": [
    "kernel = np.random.rand(3)\n",
    "sig = np.random.rand(7)\n",
    "np.isclose(np.dot(convmtx(kernel,len(sig),\"full\"), sig), conv(kernel,sig,\"full\")).any()"
   ]
  },
  {
   "cell_type": "code",
   "execution_count": null,
   "metadata": {
    "collapsed": false
   },
   "outputs": [],
   "source": [
    "np.isclose(np.dot(convmtx(kernel,len(sig),\"valid\"), sig), conv(kernel,sig,\"valid\")).any()"
   ]
  },
  {
   "cell_type": "markdown",
   "metadata": {},
   "source": [
    "### The following illustrates that the transpose of a convolution matrix is equal to a convolution matrix with a flipped kernel. "
   ]
  },
  {
   "cell_type": "code",
   "execution_count": null,
   "metadata": {
    "collapsed": true
   },
   "outputs": [],
   "source": [
    "kernel = np.array([1,2,3])"
   ]
  },
  {
   "cell_type": "code",
   "execution_count": null,
   "metadata": {
    "collapsed": false
   },
   "outputs": [],
   "source": [
    "convmtx(kernel,5,\"valid\")"
   ]
  },
  {
   "cell_type": "code",
   "execution_count": null,
   "metadata": {
    "collapsed": false
   },
   "outputs": [],
   "source": [
    "convmtx(kernel[::-1],3, \"full\")     # the kernel is flipped"
   ]
  },
  {
   "cell_type": "markdown",
   "metadata": {},
   "source": [
    "There's no coding to do here. Just verify for yourself that the above two matrices are transposes of each other.  Note that transpose changes valid to full, and vice versa. This is why the backward pass for a convolutional net contains flipped kernels. These are equivalent to the transposed matrices in the backward pass for a neural net."
   ]
  }
 ],
 "metadata": {
  "kernelspec": {
   "display_name": "Python 2",
   "language": "python",
   "name": "python2"
  },
  "language_info": {
   "codemirror_mode": {
    "name": "ipython",
    "version": 2
   },
   "file_extension": ".py",
   "mimetype": "text/x-python",
   "name": "python",
   "nbconvert_exporter": "python",
   "pygments_lexer": "ipython2",
   "version": "2.7.13"
  }
 },
 "nbformat": 4,
 "nbformat_minor": 2
}
