{
 "cells": [
  {
   "cell_type": "code",
   "execution_count": null,
   "metadata": {
    "collapsed": false,
    "scrolled": true
   },
   "outputs": [],
   "source": [
    "using Plots, Interact\n",
    "gr(yflip = true,          # matrix convention that rows are numbered from the top\n",
    "    color = :grays,\n",
    "    legend = :none)"
   ]
  },
  {
   "cell_type": "code",
   "execution_count": null,
   "metadata": {
    "collapsed": false
   },
   "outputs": [],
   "source": [
    "# extend conv2 to accept \"full\" or \"valid\" as an third argument\n",
    "function Base.conv2(A, B, shape::String)   \n",
    "    if shape == \"full\"\n",
    "        return Base.conv2(A,B)\n",
    "    elseif shape == \"valid\"\n",
    "        ranges = [ min(a,b):max(a,b) for (a,b) in zip(size(A),size(B)) ]\n",
    "        return Base.conv2(A,B)[ranges...]\n",
    "    else\n",
    "        error(\"shape must be full or valid\")\n",
    "    end\n",
    "end"
   ]
  },
  {
   "cell_type": "code",
   "execution_count": null,
   "metadata": {
    "collapsed": false
   },
   "outputs": [],
   "source": [
    "# function for displaying a stack of images\n",
    "# imgstack is mxnxp array that contains p images, each of which is mxn \n",
    "function montage(imgstack)\n",
    "    plot(\n",
    "        [heatmap(imgstack[:,:,i]) for i=1:size(imgstack,3)]...,\n",
    "        legend=:none, axis=nothing     # options necessary to get nice spacing of the images\n",
    "    )\n",
    "end"
   ]
  },
  {
   "cell_type": "code",
   "execution_count": null,
   "metadata": {
    "collapsed": false
   },
   "outputs": [],
   "source": [
    "# define four oriented bar detectors\n",
    "# note that these have inhibitory backgrounds (-1)\n",
    "nfeature = 4\n",
    "w = zeros(3,3,nfeature)\n",
    "w[:,:,1] = [-1 -1 -1; 1 1 1; -1 -1 -1]  # 0 deg  (horizontal)\n",
    "w[:,:,3] = w[:,:,1]'                    # 90 deg  (vertical)\n",
    "w[:,:,4] = 2*eye(3)-1                   # 135 deg\n",
    "w[:,:,2] = w[:,end:-1:1,4]              # 45 deg\n",
    "w"
   ]
  },
  {
   "cell_type": "code",
   "execution_count": null,
   "metadata": {
    "collapsed": false
   },
   "outputs": [],
   "source": [
    "montage(w)"
   ]
  },
  {
   "cell_type": "code",
   "execution_count": null,
   "metadata": {
    "collapsed": false
   },
   "outputs": [],
   "source": [
    "two = [\n",
    " 0  0  0  0  0  0  0  0  0  0  0  0  0  0  0  0;\n",
    " 0  0  0  0  0  0  0  0  0  0  0  0  0  0  0  0;\n",
    " 0  0  0  0  0  0  0  1  1  1  0  0  0  0  0  0;\n",
    " 0  0  0  0  0  0  1  0  0  0  1  0  0  0  0  0;\n",
    " 0  0  0  0  0  1  0  0  0  0  0  1  0  0  0  0;\n",
    " 0  0  0  0  0  0  0  0  0  0  0  1  0  0  0  0;\n",
    " 0  0  0  0  0  0  0  0  0  0  0  1  0  0  0  0;\n",
    " 0  0  0  0  0  0  0  0  0  0  1  0  0  0  0  0;\n",
    " 0  0  0  0  0  0  0  1  1  1  0  0  0  0  0  0;\n",
    " 0  0  0  0  0  0  1  0  0  0  0  0  0  0  0  0;\n",
    " 0  0  0  0  0  1  0  0  0  0  0  0  0  0  0  0;\n",
    " 0  0  0  0  0  1  0  0  0  0  0  0  0  0  0  0;\n",
    " 0  0  0  0  0  1  1  1  1  1  1  1  0  0  0  0;\n",
    " 0  0  0  0  0  0  0  0  0  0  0  0  0  0  0  0;\n",
    " 0  0  0  0  0  0  0  0  0  0  0  0  0  0  0  0;\n",
    " 0  0  0  0  0  0  0  0  0  0  0  0  0  0  0  0\n",
    "]\n",
    "heatmap(two, axis=nothing)"
   ]
  },
  {
   "cell_type": "code",
   "execution_count": null,
   "metadata": {
    "collapsed": false
   },
   "outputs": [],
   "source": [
    "x1 = zeros(14,14,nfeature)\n",
    "for ifeature=1:nfeature\n",
    "      x1[:,:,ifeature] = conv2(w[:,:,ifeature],float(two),\"valid\") .> 2.5;   # high thres: conjunction\n",
    "end\n",
    "plot(montage(w), heatmap(two), montage(x1),axis=nothing)"
   ]
  },
  {
   "cell_type": "code",
   "execution_count": null,
   "metadata": {
    "collapsed": false
   },
   "outputs": [],
   "source": [
    "twodistort = [\n",
    " 0  0  0  0  0  0  0  0  0  0  0  0  0  0  0  0;\n",
    " 0  0  0  0  0  0  0  0  0  0  0  0  0  0  0  0;\n",
    " 0  0  0  0  0  0  1  1  1  1  0  0  0  0  0  0;\n",
    " 0  0  0  0  0  1  0  0  0  0  1  0  0  0  0  0;\n",
    " 0  0  0  0  1  0  0  0  0  0  0  1  0  0  0  0;\n",
    " 0  0  0  0  0  0  0  0  0  0  0  1  0  0  0  0;\n",
    " 0  0  0  0  0  0  0  0  0  0  0  1  0  0  0  0;\n",
    " 0  0  0  0  0  0  0  0  0  0  1  0  0  0  0  0;\n",
    " 0  0  0  0  0  0  0  1  1  1  0  0  0  0  0  0;\n",
    " 0  0  0  0  0  0  1  0  0  0  0  0  0  0  0  0;\n",
    " 0  0  0  0  0  1  0  0  0  0  0  0  0  0  0  0;\n",
    " 0  0  0  0  0  1  0  0  0  0  0  0  0  0  0  0;\n",
    " 0  0  0  0  0  1  1  1  1  1  1  1  0  0  0  0;\n",
    " 0  0  0  0  0  0  0  0  0  0  0  0  0  0  0  0;\n",
    " 0  0  0  0  0  0  0  0  0  0  0  0  0  0  0  0;\n",
    " 0  0  0  0  0  0  0  0  0  0  0  0  0  0  0  0\n",
    "]\n",
    "plot(heatmap(two), heatmap(twodistort),axis=nothing)"
   ]
  },
  {
   "cell_type": "code",
   "execution_count": null,
   "metadata": {
    "collapsed": false
   },
   "outputs": [],
   "source": [
    "X0 = [two, twodistort]\n",
    "@manipulate for i=1:2; \n",
    "    heatmap(X0[i],axis=nothing)\n",
    "end"
   ]
  },
  {
   "cell_type": "code",
   "execution_count": null,
   "metadata": {
    "collapsed": false
   },
   "outputs": [],
   "source": [
    "x1distort = zeros(14,14,nfeature)\n",
    "for ifeature=1:nfeature\n",
    "      x1distort[:,:,ifeature] = conv2(w[:,:,ifeature],float(twodistort),\"valid\") .> 2.5;   # high thres: conjunction\n",
    "end"
   ]
  },
  {
   "cell_type": "code",
   "execution_count": null,
   "metadata": {
    "collapsed": false
   },
   "outputs": [],
   "source": [
    "X1 = [x1, x1distort]\n",
    "@manipulate for i=1:2; \n",
    "    plot(heatmap(X0[i],axis=nothing),montage(X1[i]))\n",
    "end"
   ]
  },
  {
   "cell_type": "code",
   "execution_count": null,
   "metadata": {
    "collapsed": false
   },
   "outputs": [],
   "source": [
    "function sumpool(img)\n",
    "    # sum in nonoverlapping 2x2 blocks\n",
    "    box = [1.0 1.0; 1.0 1.0]\n",
    "    float(conv2(box,img,\"valid\")[1:2:end,1:2:end] .> 0.5)\n",
    "end"
   ]
  },
  {
   "cell_type": "code",
   "execution_count": null,
   "metadata": {
    "collapsed": false,
    "scrolled": true
   },
   "outputs": [],
   "source": [
    "x2 = zeros(7,7,4)\n",
    "for k=1:4\n",
    "    x2[:,:,k] = sumpool(x1[:,:,k])\n",
    "end\n",
    "x2distort = zeros(7,7,4)\n",
    "for k=1:4\n",
    "    x2distort[:,:,k] = sumpool(x1distort[:,:,k])\n",
    "end\n",
    "X2 = [x2, x2distort]\n",
    "@manipulate for i=1:2; \n",
    "    plot(heatmap(X0[i],axis=nothing),montage(X1[i]),montage(X2[i]))\n",
    "end"
   ]
  },
  {
   "cell_type": "code",
   "execution_count": null,
   "metadata": {
    "collapsed": false
   },
   "outputs": [],
   "source": [
    "w3 = zeros(2,2,4)\n",
    "w3[:,:,1] = [\n",
    "    -1. -1.;\n",
    "    1. -1.\n",
    "]\n",
    "w3[:,:,2] = [\n",
    "    -1. 1.; \n",
    "    -1. -1.\n",
    "]\n",
    "montage(w3)"
   ]
  },
  {
   "cell_type": "code",
   "execution_count": null,
   "metadata": {
    "collapsed": false
   },
   "outputs": [],
   "source": [
    "x3 = zeros(6,6)\n",
    "for ifeature = 1:nfeature\n",
    "    x3 += conv2(w3[:,:,ifeature],x2[:,:,ifeature],\"valid\")\n",
    "end\n",
    "x3 = float(x3 .> 1.5)\n",
    "montage(x3)"
   ]
  },
  {
   "cell_type": "code",
   "execution_count": null,
   "metadata": {
    "collapsed": true
   },
   "outputs": [],
   "source": []
  }
 ],
 "metadata": {
  "kernelspec": {
   "display_name": "Julia 0.5.0",
   "language": "julia",
   "name": "julia-0.5"
  },
  "language_info": {
   "file_extension": ".jl",
   "mimetype": "application/julia",
   "name": "julia",
   "version": "0.5.0"
  },
  "widgets": {
   "state": {
    "8a931181-262e-4bd5-b382-ae3dbf5e5ac4": {
     "views": [
      {
       "cell_index": 10
      }
     ]
    },
    "c96da80b-7765-4f42-9e76-f5f067f0f2da": {
     "views": [
      {
       "cell_index": 8
      }
     ]
    },
    "f9b66cbe-9182-4ba4-8cb2-b568eb12991f": {
     "views": [
      {
       "cell_index": 12
      }
     ]
    }
   },
   "version": "1.2.0"
  }
 },
 "nbformat": 4,
 "nbformat_minor": 2
}
