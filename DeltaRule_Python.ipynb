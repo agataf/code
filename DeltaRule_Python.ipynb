{
 "cells": [
  {
   "cell_type": "markdown",
   "metadata": {},
   "source": [
    "Imports, plotting inline, and random seed"
   ]
  },
  {
   "cell_type": "code",
   "execution_count": 1,
   "metadata": {
    "collapsed": true
   },
   "outputs": [],
   "source": [
    "import time\n",
    "import sklearn\n",
    "import matplotlib.pyplot as plt\n",
    "from IPython import display\n",
    "from sklearn.datasets import fetch_mldata\n",
    "import numpy as np\n",
    "%matplotlib inline\n",
    "plt.rcParams['image.cmap'] = 'gray'\n",
    "np.random.seed(seed=495)"
   ]
  },
  {
   "cell_type": "markdown",
   "metadata": {},
   "source": [
    "Initial values"
   ]
  },
  {
   "cell_type": "code",
   "execution_count": 2,
   "metadata": {
    "collapsed": false
   },
   "outputs": [],
   "source": [
    "n = 784   # number of image pixels\n",
    "m = 60000   # number of images in training set\n",
    "eta = 0.1  # learning rate parameter\n",
    "epsinit = 0.01  # initial size of synaptic weights\n",
    "w = epsinit*np.random.rand(n)   # random initialization of weight vector\n",
    "b = epsinit*np.random.rand(1)    # random initialization of bias \n",
    "\n",
    "tmax = 60000           # number of learning updates\n",
    "errcl = np.zeros(tmax)    # classification error vs. time"
   ]
  },
  {
   "cell_type": "markdown",
   "metadata": {},
   "source": [
    "Set up train and test data."
   ]
  },
  {
   "cell_type": "code",
   "execution_count": 8,
   "metadata": {
    "collapsed": true
   },
   "outputs": [],
   "source": [
    "mnist = fetch_mldata('MNIST original', data_home=\"data\")\n",
    "\n",
    "shuffled_indices = np.random.permutation(np.arange(mnist.data.shape[0]))\n",
    "train_indices = shuffled_indices[:m]\n",
    "test_indices = shuffled_indices[m:]\n",
    "\n",
    "trainimages = mnist.data[train_indices, :]\n",
    "trainlabels = mnist.target[train_indices]\n",
    "\n",
    "testimages = mnist.data[test_indices, :]\n",
    "testlabels = mnist.data[test_indices]"
   ]
  },
  {
   "cell_type": "markdown",
   "metadata": {},
   "source": [
    "Functions to visualize training (output weight vector, input vector, running error)."
   ]
  },
  {
   "cell_type": "code",
   "execution_count": 4,
   "metadata": {
    "collapsed": true
   },
   "outputs": [],
   "source": [
    "def plot_image(image):\n",
    "    nr, nc = image.shape \n",
    "    extent = [-0.5, nc-0.5, nr-0.5, -0.5] \n",
    "    plt.imshow(image, extent=extent, origin='upper', interpolation='nearest') \n",
    "\n",
    "    \n",
    "def visualize(t, errcl, w, x):\n",
    "    errorrate = np.divide(\n",
    "        np.cumsum(errcl[: t + 1]),\n",
    "        range(1, t + 2)\n",
    "    )\n",
    "\n",
    "    display.clear_output(wait=True)\n",
    "\n",
    "    plt.subplot(1, 3, 1)\n",
    "    plot_image(np.reshape(w, [28, 28]))\n",
    "    plt.title(\"weight vector at t = \" + str(t + 1))\n",
    "\n",
    "    plt.subplot(1, 3, 2)\n",
    "    plot_image(np.reshape(x, [28, 28]))\n",
    "    plt.title(\"input vector\")\n",
    "\n",
    "    plt.subplot(1, 3, 3)\n",
    "    plt.plot(errorrate, color='red')\n",
    "    plt.title(\"average class error = \" + str(errorrate[t]))\n",
    "    plt.ylim(0, 1)\n",
    "\n",
    "    plt.subplots_adjust(wspace=.5)\n",
    "\n",
    "    plt.gcf().set_size_inches(18.5, 10.5)\n",
    "    display.display(plt.gcf())"
   ]
  },
  {
   "cell_type": "markdown",
   "metadata": {},
   "source": [
    "The trainining loop."
   ]
  },
  {
   "cell_type": "code",
   "execution_count": 5,
   "metadata": {
    "collapsed": false
   },
   "outputs": [
    {
     "data": {
      "image/png": "[encoded data removed]",
      "text/plain": [
       "<matplotlib.figure.Figure at 0x1115f61d0>"
      ]
     },
     "metadata": {},
     "output_type": "display_data"
    }
   ],
   "source": [
    "for t in range(0, tmax):     # iterate over the train steps\n",
    "    i = int(np.floor(m * np.random.rand()))    # choose a random example\n",
    "    x = trainimages[i, :] / 255.0              # normalize max value to one\n",
    "    desired = np.float64(trainlabels[i] == 2)  # get true label as a float\n",
    "    actual = np.float64(np.dot(w, x) + b > 0)  # get predicted label as a float\n",
    "    delta = desired - actual\n",
    "    errcl[t] = abs(desired - actual)           # error between true and predicted\n",
    "    w += eta * delta * x                       # weight update\n",
    "    b += eta * delta                           # bias update\n",
    "    if t % 1000 == 0:    # display every 1000 time steps\n",
    "        visualize(t, errcl, w, x)        \n",
    "        time.sleep(0.01)\n",
    "\n",
    "# show final statistics\n",
    "visualize(t, errcl, w, x)  \n",
    "display.clear_output(wait=True)"
   ]
  }
 ],
 "metadata": {
  "kernelspec": {
   "display_name": "Python 2",
   "language": "python",
   "name": "python2"
  },
  "language_info": {
   "codemirror_mode": {
    "name": "ipython",
    "version": 2
   },
   "file_extension": ".py",
   "mimetype": "text/x-python",
   "name": "python",
   "nbconvert_exporter": "python",
   "pygments_lexer": "ipython2",
   "version": "2.7.10"
  }
 },
 "nbformat": 4,
 "nbformat_minor": 1
}
